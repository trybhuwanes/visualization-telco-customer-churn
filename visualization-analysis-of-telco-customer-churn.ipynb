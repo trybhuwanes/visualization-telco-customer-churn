{
 "cells": [
  {
   "cell_type": "markdown",
   "id": "bbdf80c5",
   "metadata": {
    "papermill": {
     "duration": 0.004537,
     "end_time": "2025-05-20T03:39:48.536968",
     "exception": false,
     "start_time": "2025-05-20T03:39:48.532431",
     "status": "completed"
    },
    "tags": []
   },
   "source": [
    "# Import Library"
   ]
  },
  {
   "cell_type": "code",
   "execution_count": 1,
   "id": "8b665185",
   "metadata": {
    "_cell_guid": "b1076dfc-b9ad-4769-8c92-a6c4dae69d19",
    "_uuid": "8f2839f25d086af736a60e9eeb907d3b93b6e0e5",
    "execution": {
     "iopub.execute_input": "2025-05-20T03:39:48.545564Z",
     "iopub.status.busy": "2025-05-20T03:39:48.545183Z",
     "iopub.status.idle": "2025-05-20T03:39:52.588751Z",
     "shell.execute_reply": "2025-05-20T03:39:52.587606Z"
    },
    "papermill": {
     "duration": 4.049564,
     "end_time": "2025-05-20T03:39:52.590331",
     "exception": false,
     "start_time": "2025-05-20T03:39:48.540767",
     "status": "completed"
    },
    "tags": []
   },
   "outputs": [
    {
     "name": "stdout",
     "output_type": "stream",
     "text": [
      "/kaggle/input/telco-customer-churn-11-1-3/telco.csv\n"
     ]
    }
   ],
   "source": [
    "import numpy as np\n",
    "import pandas as pd\n",
    "import seaborn as sns\n",
    "import matplotlib.pyplot as plt\n",
    "\n",
    "import os\n",
    "for dirname, _, filenames in os.walk('/kaggle/input'):\n",
    "    for filename in filenames:\n",
    "        print(os.path.join(dirname, filename))"
   ]
  },
  {
   "cell_type": "markdown",
   "id": "4a6ecea3",
   "metadata": {
    "papermill": {
     "duration": 0.003415,
     "end_time": "2025-05-20T03:39:52.597737",
     "exception": false,
     "start_time": "2025-05-20T03:39:52.594322",
     "status": "completed"
    },
    "tags": []
   },
   "source": [
    "# Explore The Dataset"
   ]
  },
  {
   "cell_type": "code",
   "execution_count": 2,
   "id": "3fd23ffd",
   "metadata": {
    "execution": {
     "iopub.execute_input": "2025-05-20T03:39:52.606098Z",
     "iopub.status.busy": "2025-05-20T03:39:52.605698Z",
     "iopub.status.idle": "2025-05-20T03:39:52.754857Z",
     "shell.execute_reply": "2025-05-20T03:39:52.753909Z"
    },
    "papermill": {
     "duration": 0.155066,
     "end_time": "2025-05-20T03:39:52.756292",
     "exception": false,
     "start_time": "2025-05-20T03:39:52.601226",
     "status": "completed"
    },
    "tags": []
   },
   "outputs": [
    {
     "data": {
      "text/html": [
       "<div>\n",
       "<style scoped>\n",
       "    .dataframe tbody tr th:only-of-type {\n",
       "        vertical-align: middle;\n",
       "    }\n",
       "\n",
       "    .dataframe tbody tr th {\n",
       "        vertical-align: top;\n",
       "    }\n",
       "\n",
       "    .dataframe thead th {\n",
       "        text-align: right;\n",
       "    }\n",
       "</style>\n",
       "<table border=\"1\" class=\"dataframe\">\n",
       "  <thead>\n",
       "    <tr style=\"text-align: right;\">\n",
       "      <th></th>\n",
       "      <th>Customer ID</th>\n",
       "      <th>Gender</th>\n",
       "      <th>Age</th>\n",
       "      <th>Under 30</th>\n",
       "      <th>Senior Citizen</th>\n",
       "      <th>Married</th>\n",
       "      <th>Dependents</th>\n",
       "      <th>Number of Dependents</th>\n",
       "      <th>Country</th>\n",
       "      <th>State</th>\n",
       "      <th>...</th>\n",
       "      <th>Total Extra Data Charges</th>\n",
       "      <th>Total Long Distance Charges</th>\n",
       "      <th>Total Revenue</th>\n",
       "      <th>Satisfaction Score</th>\n",
       "      <th>Customer Status</th>\n",
       "      <th>Churn Label</th>\n",
       "      <th>Churn Score</th>\n",
       "      <th>CLTV</th>\n",
       "      <th>Churn Category</th>\n",
       "      <th>Churn Reason</th>\n",
       "    </tr>\n",
       "  </thead>\n",
       "  <tbody>\n",
       "    <tr>\n",
       "      <th>0</th>\n",
       "      <td>8779-QRDMV</td>\n",
       "      <td>Male</td>\n",
       "      <td>78</td>\n",
       "      <td>No</td>\n",
       "      <td>Yes</td>\n",
       "      <td>No</td>\n",
       "      <td>No</td>\n",
       "      <td>0</td>\n",
       "      <td>United States</td>\n",
       "      <td>California</td>\n",
       "      <td>...</td>\n",
       "      <td>20</td>\n",
       "      <td>0.00</td>\n",
       "      <td>59.65</td>\n",
       "      <td>3</td>\n",
       "      <td>Churned</td>\n",
       "      <td>Yes</td>\n",
       "      <td>91</td>\n",
       "      <td>5433</td>\n",
       "      <td>Competitor</td>\n",
       "      <td>Competitor offered more data</td>\n",
       "    </tr>\n",
       "    <tr>\n",
       "      <th>1</th>\n",
       "      <td>7495-OOKFY</td>\n",
       "      <td>Female</td>\n",
       "      <td>74</td>\n",
       "      <td>No</td>\n",
       "      <td>Yes</td>\n",
       "      <td>Yes</td>\n",
       "      <td>Yes</td>\n",
       "      <td>1</td>\n",
       "      <td>United States</td>\n",
       "      <td>California</td>\n",
       "      <td>...</td>\n",
       "      <td>0</td>\n",
       "      <td>390.80</td>\n",
       "      <td>1024.10</td>\n",
       "      <td>3</td>\n",
       "      <td>Churned</td>\n",
       "      <td>Yes</td>\n",
       "      <td>69</td>\n",
       "      <td>5302</td>\n",
       "      <td>Competitor</td>\n",
       "      <td>Competitor made better offer</td>\n",
       "    </tr>\n",
       "    <tr>\n",
       "      <th>2</th>\n",
       "      <td>1658-BYGOY</td>\n",
       "      <td>Male</td>\n",
       "      <td>71</td>\n",
       "      <td>No</td>\n",
       "      <td>Yes</td>\n",
       "      <td>No</td>\n",
       "      <td>Yes</td>\n",
       "      <td>3</td>\n",
       "      <td>United States</td>\n",
       "      <td>California</td>\n",
       "      <td>...</td>\n",
       "      <td>0</td>\n",
       "      <td>203.94</td>\n",
       "      <td>1910.88</td>\n",
       "      <td>2</td>\n",
       "      <td>Churned</td>\n",
       "      <td>Yes</td>\n",
       "      <td>81</td>\n",
       "      <td>3179</td>\n",
       "      <td>Competitor</td>\n",
       "      <td>Competitor made better offer</td>\n",
       "    </tr>\n",
       "    <tr>\n",
       "      <th>3</th>\n",
       "      <td>4598-XLKNJ</td>\n",
       "      <td>Female</td>\n",
       "      <td>78</td>\n",
       "      <td>No</td>\n",
       "      <td>Yes</td>\n",
       "      <td>Yes</td>\n",
       "      <td>Yes</td>\n",
       "      <td>1</td>\n",
       "      <td>United States</td>\n",
       "      <td>California</td>\n",
       "      <td>...</td>\n",
       "      <td>0</td>\n",
       "      <td>494.00</td>\n",
       "      <td>2995.07</td>\n",
       "      <td>2</td>\n",
       "      <td>Churned</td>\n",
       "      <td>Yes</td>\n",
       "      <td>88</td>\n",
       "      <td>5337</td>\n",
       "      <td>Dissatisfaction</td>\n",
       "      <td>Limited range of services</td>\n",
       "    </tr>\n",
       "    <tr>\n",
       "      <th>4</th>\n",
       "      <td>4846-WHAFZ</td>\n",
       "      <td>Female</td>\n",
       "      <td>80</td>\n",
       "      <td>No</td>\n",
       "      <td>Yes</td>\n",
       "      <td>Yes</td>\n",
       "      <td>Yes</td>\n",
       "      <td>1</td>\n",
       "      <td>United States</td>\n",
       "      <td>California</td>\n",
       "      <td>...</td>\n",
       "      <td>0</td>\n",
       "      <td>234.21</td>\n",
       "      <td>3102.36</td>\n",
       "      <td>2</td>\n",
       "      <td>Churned</td>\n",
       "      <td>Yes</td>\n",
       "      <td>67</td>\n",
       "      <td>2793</td>\n",
       "      <td>Price</td>\n",
       "      <td>Extra data charges</td>\n",
       "    </tr>\n",
       "  </tbody>\n",
       "</table>\n",
       "<p>5 rows × 50 columns</p>\n",
       "</div>"
      ],
      "text/plain": [
       "  Customer ID  Gender  Age Under 30 Senior Citizen Married Dependents  \\\n",
       "0  8779-QRDMV    Male   78       No            Yes      No         No   \n",
       "1  7495-OOKFY  Female   74       No            Yes     Yes        Yes   \n",
       "2  1658-BYGOY    Male   71       No            Yes      No        Yes   \n",
       "3  4598-XLKNJ  Female   78       No            Yes     Yes        Yes   \n",
       "4  4846-WHAFZ  Female   80       No            Yes     Yes        Yes   \n",
       "\n",
       "   Number of Dependents        Country       State  ...  \\\n",
       "0                     0  United States  California  ...   \n",
       "1                     1  United States  California  ...   \n",
       "2                     3  United States  California  ...   \n",
       "3                     1  United States  California  ...   \n",
       "4                     1  United States  California  ...   \n",
       "\n",
       "  Total Extra Data Charges  Total Long Distance Charges  Total Revenue  \\\n",
       "0                       20                         0.00          59.65   \n",
       "1                        0                       390.80        1024.10   \n",
       "2                        0                       203.94        1910.88   \n",
       "3                        0                       494.00        2995.07   \n",
       "4                        0                       234.21        3102.36   \n",
       "\n",
       "   Satisfaction Score  Customer Status Churn Label Churn Score  CLTV  \\\n",
       "0                   3          Churned         Yes          91  5433   \n",
       "1                   3          Churned         Yes          69  5302   \n",
       "2                   2          Churned         Yes          81  3179   \n",
       "3                   2          Churned         Yes          88  5337   \n",
       "4                   2          Churned         Yes          67  2793   \n",
       "\n",
       "    Churn Category                  Churn Reason  \n",
       "0       Competitor  Competitor offered more data  \n",
       "1       Competitor  Competitor made better offer  \n",
       "2       Competitor  Competitor made better offer  \n",
       "3  Dissatisfaction     Limited range of services  \n",
       "4            Price            Extra data charges  \n",
       "\n",
       "[5 rows x 50 columns]"
      ]
     },
     "execution_count": 2,
     "metadata": {},
     "output_type": "execute_result"
    }
   ],
   "source": [
    "# Read Dataset\n",
    "dataset = pd.read_csv('/kaggle/input/telco-customer-churn-11-1-3/telco.csv')\n",
    "dataset.head()"
   ]
  },
  {
   "cell_type": "code",
   "execution_count": 3,
   "id": "fd94192f",
   "metadata": {
    "execution": {
     "iopub.execute_input": "2025-05-20T03:39:52.766337Z",
     "iopub.status.busy": "2025-05-20T03:39:52.766019Z",
     "iopub.status.idle": "2025-05-20T03:39:52.801719Z",
     "shell.execute_reply": "2025-05-20T03:39:52.800476Z"
    },
    "papermill": {
     "duration": 0.042764,
     "end_time": "2025-05-20T03:39:52.803394",
     "exception": false,
     "start_time": "2025-05-20T03:39:52.760630",
     "status": "completed"
    },
    "tags": []
   },
   "outputs": [
    {
     "name": "stdout",
     "output_type": "stream",
     "text": [
      "<class 'pandas.core.frame.DataFrame'>\n",
      "RangeIndex: 7043 entries, 0 to 7042\n",
      "Data columns (total 50 columns):\n",
      " #   Column                             Non-Null Count  Dtype  \n",
      "---  ------                             --------------  -----  \n",
      " 0   Customer ID                        7043 non-null   object \n",
      " 1   Gender                             7043 non-null   object \n",
      " 2   Age                                7043 non-null   int64  \n",
      " 3   Under 30                           7043 non-null   object \n",
      " 4   Senior Citizen                     7043 non-null   object \n",
      " 5   Married                            7043 non-null   object \n",
      " 6   Dependents                         7043 non-null   object \n",
      " 7   Number of Dependents               7043 non-null   int64  \n",
      " 8   Country                            7043 non-null   object \n",
      " 9   State                              7043 non-null   object \n",
      " 10  City                               7043 non-null   object \n",
      " 11  Zip Code                           7043 non-null   int64  \n",
      " 12  Latitude                           7043 non-null   float64\n",
      " 13  Longitude                          7043 non-null   float64\n",
      " 14  Population                         7043 non-null   int64  \n",
      " 15  Quarter                            7043 non-null   object \n",
      " 16  Referred a Friend                  7043 non-null   object \n",
      " 17  Number of Referrals                7043 non-null   int64  \n",
      " 18  Tenure in Months                   7043 non-null   int64  \n",
      " 19  Offer                              3166 non-null   object \n",
      " 20  Phone Service                      7043 non-null   object \n",
      " 21  Avg Monthly Long Distance Charges  7043 non-null   float64\n",
      " 22  Multiple Lines                     7043 non-null   object \n",
      " 23  Internet Service                   7043 non-null   object \n",
      " 24  Internet Type                      5517 non-null   object \n",
      " 25  Avg Monthly GB Download            7043 non-null   int64  \n",
      " 26  Online Security                    7043 non-null   object \n",
      " 27  Online Backup                      7043 non-null   object \n",
      " 28  Device Protection Plan             7043 non-null   object \n",
      " 29  Premium Tech Support               7043 non-null   object \n",
      " 30  Streaming TV                       7043 non-null   object \n",
      " 31  Streaming Movies                   7043 non-null   object \n",
      " 32  Streaming Music                    7043 non-null   object \n",
      " 33  Unlimited Data                     7043 non-null   object \n",
      " 34  Contract                           7043 non-null   object \n",
      " 35  Paperless Billing                  7043 non-null   object \n",
      " 36  Payment Method                     7043 non-null   object \n",
      " 37  Monthly Charge                     7043 non-null   float64\n",
      " 38  Total Charges                      7043 non-null   float64\n",
      " 39  Total Refunds                      7043 non-null   float64\n",
      " 40  Total Extra Data Charges           7043 non-null   int64  \n",
      " 41  Total Long Distance Charges        7043 non-null   float64\n",
      " 42  Total Revenue                      7043 non-null   float64\n",
      " 43  Satisfaction Score                 7043 non-null   int64  \n",
      " 44  Customer Status                    7043 non-null   object \n",
      " 45  Churn Label                        7043 non-null   object \n",
      " 46  Churn Score                        7043 non-null   int64  \n",
      " 47  CLTV                               7043 non-null   int64  \n",
      " 48  Churn Category                     1869 non-null   object \n",
      " 49  Churn Reason                       1869 non-null   object \n",
      "dtypes: float64(8), int64(11), object(31)\n",
      "memory usage: 2.7+ MB\n"
     ]
    }
   ],
   "source": [
    "dataset.info()"
   ]
  },
  {
   "cell_type": "code",
   "execution_count": 4,
   "id": "5e173a96",
   "metadata": {
    "execution": {
     "iopub.execute_input": "2025-05-20T03:39:52.812998Z",
     "iopub.status.busy": "2025-05-20T03:39:52.812723Z",
     "iopub.status.idle": "2025-05-20T03:39:52.831625Z",
     "shell.execute_reply": "2025-05-20T03:39:52.830892Z"
    },
    "papermill": {
     "duration": 0.025225,
     "end_time": "2025-05-20T03:39:52.832882",
     "exception": false,
     "start_time": "2025-05-20T03:39:52.807657",
     "status": "completed"
    },
    "tags": []
   },
   "outputs": [
    {
     "data": {
      "text/plain": [
       "Customer ID                             0\n",
       "Gender                                  0\n",
       "Age                                     0\n",
       "Under 30                                0\n",
       "Senior Citizen                          0\n",
       "Married                                 0\n",
       "Dependents                              0\n",
       "Number of Dependents                    0\n",
       "Country                                 0\n",
       "State                                   0\n",
       "City                                    0\n",
       "Zip Code                                0\n",
       "Latitude                                0\n",
       "Longitude                               0\n",
       "Population                              0\n",
       "Quarter                                 0\n",
       "Referred a Friend                       0\n",
       "Number of Referrals                     0\n",
       "Tenure in Months                        0\n",
       "Offer                                3877\n",
       "Phone Service                           0\n",
       "Avg Monthly Long Distance Charges       0\n",
       "Multiple Lines                          0\n",
       "Internet Service                        0\n",
       "Internet Type                        1526\n",
       "Avg Monthly GB Download                 0\n",
       "Online Security                         0\n",
       "Online Backup                           0\n",
       "Device Protection Plan                  0\n",
       "Premium Tech Support                    0\n",
       "Streaming TV                            0\n",
       "Streaming Movies                        0\n",
       "Streaming Music                         0\n",
       "Unlimited Data                          0\n",
       "Contract                                0\n",
       "Paperless Billing                       0\n",
       "Payment Method                          0\n",
       "Monthly Charge                          0\n",
       "Total Charges                           0\n",
       "Total Refunds                           0\n",
       "Total Extra Data Charges                0\n",
       "Total Long Distance Charges             0\n",
       "Total Revenue                           0\n",
       "Satisfaction Score                      0\n",
       "Customer Status                         0\n",
       "Churn Label                             0\n",
       "Churn Score                             0\n",
       "CLTV                                    0\n",
       "Churn Category                       5174\n",
       "Churn Reason                         5174\n",
       "dtype: int64"
      ]
     },
     "execution_count": 4,
     "metadata": {},
     "output_type": "execute_result"
    }
   ],
   "source": [
    "# Sum the null value on dataset\n",
    "dataset.isnull().sum()"
   ]
  },
  {
   "cell_type": "markdown",
   "id": "7b227133",
   "metadata": {
    "papermill": {
     "duration": 0.00391,
     "end_time": "2025-05-20T03:39:52.840939",
     "exception": false,
     "start_time": "2025-05-20T03:39:52.837029",
     "status": "completed"
    },
    "tags": []
   },
   "source": [
    "# Visualization"
   ]
  },
  {
   "cell_type": "markdown",
   "id": "4cec787f",
   "metadata": {
    "papermill": {
     "duration": 0.003775,
     "end_time": "2025-05-20T03:39:52.848838",
     "exception": false,
     "start_time": "2025-05-20T03:39:52.845063",
     "status": "completed"
    },
    "tags": []
   },
   "source": [
    "**Presentation of Customer Churn**"
   ]
  },
  {
   "cell_type": "code",
   "execution_count": 5,
   "id": "946928b8",
   "metadata": {
    "execution": {
     "iopub.execute_input": "2025-05-20T03:39:52.858547Z",
     "iopub.status.busy": "2025-05-20T03:39:52.857768Z",
     "iopub.status.idle": "2025-05-20T03:39:53.080530Z",
     "shell.execute_reply": "2025-05-20T03:39:53.079771Z"
    },
    "papermill": {
     "duration": 0.229229,
     "end_time": "2025-05-20T03:39:53.082017",
     "exception": false,
     "start_time": "2025-05-20T03:39:52.852788",
     "status": "completed"
    },
    "tags": []
   },
   "outputs": [
    {
     "data": {
      "text/plain": [
       "Text(0.5, 1.0, 'Pie Chart Customer Churn')"
      ]
     },
     "execution_count": 5,
     "metadata": {},
     "output_type": "execute_result"
    },
    {
     "data": {
      "image/png": "[encoded data removed]",
      "text/plain": [
       "<Figure size 800x400 with 1 Axes>"
      ]
     },
     "metadata": {},
     "output_type": "display_data"
    }
   ],
   "source": [
    "grouped_churn = dataset.groupby('Churn Label', as_index=False).count()\n",
    "\n",
    "fig = plt.subplots(figsize=(8,4))\n",
    "explode = (0, 0.1)\n",
    "plt.pie(x=grouped_churn['Gender'], labels=grouped_churn['Churn Label'], autopct='%.1f%%', pctdistance=0.6, explode=explode, shadow=True)\n",
    "plt.title('Pie Chart Customer Churn')"
   ]
  },
  {
   "cell_type": "markdown",
   "id": "291e640e",
   "metadata": {
    "papermill": {
     "duration": 0.00426,
     "end_time": "2025-05-20T03:39:53.091120",
     "exception": false,
     "start_time": "2025-05-20T03:39:53.086860",
     "status": "completed"
    },
    "tags": []
   },
   "source": [
    "Explanation:\n",
    "A total of 26.5% of customers have churned, meaning they stopped using the service. Meanwhile, 73.5% did not churn, indicating they are still active and loyal customers.\n",
    "\n",
    "Analysis:\n",
    "- A churn rate of 26.5% means about a quarter of the customer base has been lost. While this is not critically high, it still deserves attention.\n",
    "- The majority (73.5%) of customers remain active, which is a good sign of customer satisfaction and brand trust.\n",
    "\n",
    "Recommended actions:\n",
    "- Investigate churn causes, such as service quality, pricing, customer experience, or competitive offerings.\n",
    "- Identify common traits among churned customers to improve early intervention and prevention.\n",
    "- Boost retention through loyalty programs, service personalization, and better customer support."
   ]
  },
  {
   "cell_type": "markdown",
   "id": "563f94dd",
   "metadata": {
    "papermill": {
     "duration": 0.00414,
     "end_time": "2025-05-20T03:39:53.099722",
     "exception": false,
     "start_time": "2025-05-20T03:39:53.095582",
     "status": "completed"
    },
    "tags": []
   },
   "source": [
    "**Correlation Between Tenure in Months & Total**"
   ]
  },
  {
   "cell_type": "code",
   "execution_count": 6,
   "id": "d31c628f",
   "metadata": {
    "execution": {
     "iopub.execute_input": "2025-05-20T03:39:53.110216Z",
     "iopub.status.busy": "2025-05-20T03:39:53.109411Z",
     "iopub.status.idle": "2025-05-20T03:39:53.617130Z",
     "shell.execute_reply": "2025-05-20T03:39:53.616288Z"
    },
    "papermill": {
     "duration": 0.514347,
     "end_time": "2025-05-20T03:39:53.618491",
     "exception": false,
     "start_time": "2025-05-20T03:39:53.104144",
     "status": "completed"
    },
    "tags": []
   },
   "outputs": [
    {
     "data": {
      "image/png": "[encoded data removed]",
      "text/plain": [
       "<Figure size 640x480 with 1 Axes>"
      ]
     },
     "metadata": {},
     "output_type": "display_data"
    }
   ],
   "source": [
    "plt.plot(dataset['Tenure in Months'], dataset['Total Charges'])\n",
    "plt.xlabel('Tenure in Months')\n",
    "plt.ylabel('Total Charges')\n",
    "plt.title('Correlation Between Tenure in Months & Total Charges')\n",
    "plt.show()"
   ]
  },
  {
   "cell_type": "markdown",
   "id": "02598c9e",
   "metadata": {
    "papermill": {
     "duration": 0.005319,
     "end_time": "2025-05-20T03:39:53.629259",
     "exception": false,
     "start_time": "2025-05-20T03:39:53.623940",
     "status": "completed"
    },
    "tags": []
   },
   "source": [
    "The scatter plot shows the relationship between tenure (in months) on the X-axis and total charges on the Y-axis. A strong positive linear correlation is visible: the longer a customer stays, the more they are charged in total.\n",
    "\n",
    "Analysis:\n",
    "- The dense triangular pattern indicates that the longer the subscription period, the higher the cumulative charges. This makes sense since customers are billed monthly.\n",
    "- Most data points follow a consistent trend, suggesting the company’s billing system functions properly over time.\n",
    "- Some points, especially in the lower-right region, deviate from the main trend. These may represent customers with long tenures but unusually low charges — possibly due to discounts, billing errors, or periods of inactivity.\n",
    "- Long-term customers generate significant revenue. Therefore, customer retention strategies are critical — the longer customers stay, the higher their lifetime value."
   ]
  },
  {
   "cell_type": "markdown",
   "id": "beef4f3e",
   "metadata": {
    "papermill": {
     "duration": 0.004833,
     "end_time": "2025-05-20T03:39:53.639211",
     "exception": false,
     "start_time": "2025-05-20T03:39:53.634378",
     "status": "completed"
    },
    "tags": []
   },
   "source": [
    "**Top 5 City By Churn Label**"
   ]
  },
  {
   "cell_type": "code",
   "execution_count": 7,
   "id": "1a1f286f",
   "metadata": {
    "execution": {
     "iopub.execute_input": "2025-05-20T03:39:53.650960Z",
     "iopub.status.busy": "2025-05-20T03:39:53.650251Z",
     "iopub.status.idle": "2025-05-20T03:39:53.666297Z",
     "shell.execute_reply": "2025-05-20T03:39:53.665262Z"
    },
    "papermill": {
     "duration": 0.023414,
     "end_time": "2025-05-20T03:39:53.667665",
     "exception": false,
     "start_time": "2025-05-20T03:39:53.644251",
     "status": "completed"
    },
    "tags": []
   },
   "outputs": [
    {
     "name": "stdout",
     "output_type": "stream",
     "text": [
      "City\n",
      "San Diego        185\n",
      "Los Angeles       78\n",
      "San Francisco     31\n",
      "San Jose          29\n",
      "Sacramento        26\n",
      "Name: count, dtype: int64\n",
      "City\n",
      "Los Angeles      215\n",
      "San Diego        100\n",
      "San Jose          83\n",
      "Sacramento        82\n",
      "San Francisco     73\n",
      "Name: count, dtype: int64\n"
     ]
    }
   ],
   "source": [
    "# Count Top 5 City With Churn 'Yes'\n",
    "top_yes = dataset[dataset['Churn Label'] == 'Yes']['City'].value_counts().nlargest(5)\n",
    "print(top_yes)\n",
    "\n",
    "# Count Top 5 City With Churn 'No'\n",
    "top_no = dataset[dataset['Churn Label'] == 'No']['City'].value_counts().nlargest(5)\n",
    "print(top_no)"
   ]
  },
  {
   "cell_type": "code",
   "execution_count": 8,
   "id": "0c3d8504",
   "metadata": {
    "execution": {
     "iopub.execute_input": "2025-05-20T03:39:53.680231Z",
     "iopub.status.busy": "2025-05-20T03:39:53.679952Z",
     "iopub.status.idle": "2025-05-20T03:39:53.692767Z",
     "shell.execute_reply": "2025-05-20T03:39:53.691912Z"
    },
    "papermill": {
     "duration": 0.020509,
     "end_time": "2025-05-20T03:39:53.694140",
     "exception": false,
     "start_time": "2025-05-20T03:39:53.673631",
     "status": "completed"
    },
    "tags": []
   },
   "outputs": [
    {
     "data": {
      "text/html": [
       "<div>\n",
       "<style scoped>\n",
       "    .dataframe tbody tr th:only-of-type {\n",
       "        vertical-align: middle;\n",
       "    }\n",
       "\n",
       "    .dataframe tbody tr th {\n",
       "        vertical-align: top;\n",
       "    }\n",
       "\n",
       "    .dataframe thead th {\n",
       "        text-align: right;\n",
       "    }\n",
       "</style>\n",
       "<table border=\"1\" class=\"dataframe\">\n",
       "  <thead>\n",
       "    <tr style=\"text-align: right;\">\n",
       "      <th></th>\n",
       "      <th>City</th>\n",
       "      <th>Count</th>\n",
       "      <th>Churn Label</th>\n",
       "    </tr>\n",
       "  </thead>\n",
       "  <tbody>\n",
       "    <tr>\n",
       "      <th>0</th>\n",
       "      <td>San Diego</td>\n",
       "      <td>185</td>\n",
       "      <td>Yes</td>\n",
       "    </tr>\n",
       "    <tr>\n",
       "      <th>1</th>\n",
       "      <td>Los Angeles</td>\n",
       "      <td>78</td>\n",
       "      <td>Yes</td>\n",
       "    </tr>\n",
       "    <tr>\n",
       "      <th>2</th>\n",
       "      <td>San Francisco</td>\n",
       "      <td>31</td>\n",
       "      <td>Yes</td>\n",
       "    </tr>\n",
       "    <tr>\n",
       "      <th>3</th>\n",
       "      <td>San Jose</td>\n",
       "      <td>29</td>\n",
       "      <td>Yes</td>\n",
       "    </tr>\n",
       "    <tr>\n",
       "      <th>4</th>\n",
       "      <td>Sacramento</td>\n",
       "      <td>26</td>\n",
       "      <td>Yes</td>\n",
       "    </tr>\n",
       "    <tr>\n",
       "      <th>0</th>\n",
       "      <td>Los Angeles</td>\n",
       "      <td>215</td>\n",
       "      <td>No</td>\n",
       "    </tr>\n",
       "    <tr>\n",
       "      <th>1</th>\n",
       "      <td>San Diego</td>\n",
       "      <td>100</td>\n",
       "      <td>No</td>\n",
       "    </tr>\n",
       "    <tr>\n",
       "      <th>2</th>\n",
       "      <td>San Jose</td>\n",
       "      <td>83</td>\n",
       "      <td>No</td>\n",
       "    </tr>\n",
       "    <tr>\n",
       "      <th>3</th>\n",
       "      <td>Sacramento</td>\n",
       "      <td>82</td>\n",
       "      <td>No</td>\n",
       "    </tr>\n",
       "    <tr>\n",
       "      <th>4</th>\n",
       "      <td>San Francisco</td>\n",
       "      <td>73</td>\n",
       "      <td>No</td>\n",
       "    </tr>\n",
       "  </tbody>\n",
       "</table>\n",
       "</div>"
      ],
      "text/plain": [
       "            City  Count Churn Label\n",
       "0      San Diego    185         Yes\n",
       "1    Los Angeles     78         Yes\n",
       "2  San Francisco     31         Yes\n",
       "3       San Jose     29         Yes\n",
       "4     Sacramento     26         Yes\n",
       "0    Los Angeles    215          No\n",
       "1      San Diego    100          No\n",
       "2       San Jose     83          No\n",
       "3     Sacramento     82          No\n",
       "4  San Francisco     73          No"
      ]
     },
     "execution_count": 8,
     "metadata": {},
     "output_type": "execute_result"
    }
   ],
   "source": [
    "# Combined Dataframe For Visualization\n",
    "top_yes_df = top_yes.reset_index()\n",
    "top_yes_df.columns = ['City', 'Count']\n",
    "top_yes_df['Churn Label'] = 'Yes'\n",
    "\n",
    "top_no_df = top_no.reset_index()\n",
    "top_no_df.columns = ['City', 'Count']\n",
    "top_no_df['Churn Label'] = 'No'\n",
    "\n",
    "combined_df = pd.concat([top_yes_df, top_no_df])\n",
    "combined_df\n"
   ]
  },
  {
   "cell_type": "code",
   "execution_count": 9,
   "id": "5088d7fb",
   "metadata": {
    "execution": {
     "iopub.execute_input": "2025-05-20T03:39:53.706884Z",
     "iopub.status.busy": "2025-05-20T03:39:53.706592Z",
     "iopub.status.idle": "2025-05-20T03:39:53.924317Z",
     "shell.execute_reply": "2025-05-20T03:39:53.923615Z"
    },
    "papermill": {
     "duration": 0.225644,
     "end_time": "2025-05-20T03:39:53.925922",
     "exception": false,
     "start_time": "2025-05-20T03:39:53.700278",
     "status": "completed"
    },
    "tags": []
   },
   "outputs": [
    {
     "data": {
      "image/png": "[encoded data removed]",
      "text/plain": [
       "<Figure size 1000x400 with 1 Axes>"
      ]
     },
     "metadata": {},
     "output_type": "display_data"
    }
   ],
   "source": [
    "# Bar Plot\n",
    "plt.figure(figsize=(10, 4))\n",
    "sns.barplot(data=combined_df, x='Count', y='City', hue='Churn Label', palette='rocket')\n",
    "plt.title('Top 5 Cities with Yes and No Churn')\n",
    "plt.xlabel('Number of Customers')\n",
    "plt.ylabel('City')\n",
    "plt.legend(title='Churn Label')\n",
    "plt.tight_layout()\n",
    "plt.show()"
   ]
  },
  {
   "cell_type": "markdown",
   "id": "a2d143d1",
   "metadata": {
    "papermill": {
     "duration": 0.005856,
     "end_time": "2025-05-20T03:39:53.938437",
     "exception": false,
     "start_time": "2025-05-20T03:39:53.932581",
     "status": "completed"
    },
    "tags": []
   },
   "source": [
    "Analysis:\n",
    "- San Diego stands out with the highest churn count, suggesting potential local issues such as competitors, poor service experience, or pricing concerns.\n",
    "- Los Angeles ranks high in both churn and non-churn, indicating a large and diverse customer base. There's opportunity here to improve retention through better segmentation and targeted strategies.\n",
    "- San Francisco, San Jose, and Sacramento appearing in both lists implies that more granular segmentation is needed to understand the differences between churned and retained customers in these cities.\n",
    "\n",
    "Recommended actions:\n",
    "- Conduct city-specific churn analysis, especially in San Diego and Los Angeles.\n",
    "- Develop geo-targeted retention strategies.\n",
    "- Evaluate marketing, service delivery, and customer experience based on local customer behavior."
   ]
  },
  {
   "cell_type": "markdown",
   "id": "6d4c77a4",
   "metadata": {
    "papermill": {
     "duration": 0.005625,
     "end_time": "2025-05-20T03:39:53.949989",
     "exception": false,
     "start_time": "2025-05-20T03:39:53.944364",
     "status": "completed"
    },
    "tags": []
   },
   "source": [
    "**Distribute of Data by Tenure Months & Churn**"
   ]
  },
  {
   "cell_type": "code",
   "execution_count": 10,
   "id": "f1701c45",
   "metadata": {
    "execution": {
     "iopub.execute_input": "2025-05-20T03:39:53.962861Z",
     "iopub.status.busy": "2025-05-20T03:39:53.962568Z",
     "iopub.status.idle": "2025-05-20T03:39:54.267846Z",
     "shell.execute_reply": "2025-05-20T03:39:54.266828Z"
    },
    "papermill": {
     "duration": 0.313593,
     "end_time": "2025-05-20T03:39:54.269398",
     "exception": false,
     "start_time": "2025-05-20T03:39:53.955805",
     "status": "completed"
    },
    "tags": []
   },
   "outputs": [
    {
     "name": "stderr",
     "output_type": "stream",
     "text": [
      "/usr/local/lib/python3.11/dist-packages/seaborn/_oldcore.py:1119: FutureWarning: use_inf_as_na option is deprecated and will be removed in a future version. Convert inf values to NaN before operating instead.\n",
      "  with pd.option_context('mode.use_inf_as_na', True):\n"
     ]
    },
    {
     "data": {
      "image/png": "[encoded data removed]",
      "text/plain": [
       "<Figure size 800x500 with 1 Axes>"
      ]
     },
     "metadata": {},
     "output_type": "display_data"
    }
   ],
   "source": [
    "plt.figure(figsize=(8, 5))\n",
    "sns.histplot(data=dataset[dataset['Churn Label'] == 'Yes'], x='Tenure in Months', color='blue', kde=True, label='Churn', alpha=0.7, bins=30)\n",
    "plt.title('Distribusi Tenure Months in Yes Churn', fontsize=14)\n",
    "plt.xlabel('Tenure Months')\n",
    "plt.ylabel('Jumlah')\n",
    "plt.legend(title='Churn Label')\n",
    "plt.show()"
   ]
  },
  {
   "cell_type": "code",
   "execution_count": 11,
   "id": "3dbdf5c1",
   "metadata": {
    "execution": {
     "iopub.execute_input": "2025-05-20T03:39:54.284294Z",
     "iopub.status.busy": "2025-05-20T03:39:54.284021Z",
     "iopub.status.idle": "2025-05-20T03:39:54.595824Z",
     "shell.execute_reply": "2025-05-20T03:39:54.595124Z"
    },
    "papermill": {
     "duration": 0.321257,
     "end_time": "2025-05-20T03:39:54.597603",
     "exception": false,
     "start_time": "2025-05-20T03:39:54.276346",
     "status": "completed"
    },
    "tags": []
   },
   "outputs": [
    {
     "name": "stderr",
     "output_type": "stream",
     "text": [
      "/usr/local/lib/python3.11/dist-packages/seaborn/_oldcore.py:1119: FutureWarning: use_inf_as_na option is deprecated and will be removed in a future version. Convert inf values to NaN before operating instead.\n",
      "  with pd.option_context('mode.use_inf_as_na', True):\n"
     ]
    },
    {
     "data": {
      "image/png": "[encoded data removed]",
      "text/plain": [
       "<Figure size 800x500 with 1 Axes>"
      ]
     },
     "metadata": {},
     "output_type": "display_data"
    }
   ],
   "source": [
    "plt.figure(figsize=(8, 5))\n",
    "sns.histplot(data=dataset[dataset['Churn Label'] == 'No'], x='Tenure in Months', color='orange', kde=True, label='Churn', alpha=0.7, bins=30)\n",
    "plt.title('Distribusi Tenure Months in No Churn', fontsize=14)\n",
    "plt.xlabel('Tenure Months')\n",
    "plt.ylabel('Jumlah')\n",
    "plt.legend(title='Churn Label')\n",
    "plt.show()"
   ]
  },
  {
   "cell_type": "markdown",
   "id": "c7d04758",
   "metadata": {
    "papermill": {
     "duration": 0.007357,
     "end_time": "2025-05-20T03:39:54.612856",
     "exception": false,
     "start_time": "2025-05-20T03:39:54.605499",
     "status": "completed"
    },
    "tags": []
   },
   "source": [
    "\n",
    "Analysis:\n",
    "Based on Tenure Months and Churn Label data, We can observe that customers who Churn tend to have low Tenures. On the other hand, loyal customers (higher Tenure) will generally Non-Churn. This indicates that Churn generally occurs in new customers. Further analysis is needed as to why this happens.\n",
    "- Are new customers only interested in the services provided at the beginning of their subscription?\n",
    "- Are new customers more selective and consider that competitors are better?\n",
    "\n",
    "Recommendation:\n",
    "- We can focus on new customers to not only provide a positive initial experience but also a long-term one.\n",
    "- Provide incentives for new customers to keep them around longer, such as discounts for the first 6 months or additional service bonuses.\n",
    "- Create a special retention program for customers in the middle (medium tenure)."
   ]
  }
 ],
 "metadata": {
  "kaggle": {
   "accelerator": "none",
   "dataSources": [
    {
     "datasetId": 4968559,
     "sourceId": 8360350,
     "sourceType": "datasetVersion"
    }
   ],
   "dockerImageVersionId": 31040,
   "isGpuEnabled": false,
   "isInternetEnabled": true,
   "language": "python",
   "sourceType": "notebook"
  },
  "kernelspec": {
   "display_name": "Python 3",
   "language": "python",
   "name": "python3"
  },
  "language_info": {
   "codemirror_mode": {
    "name": "ipython",
    "version": 3
   },
   "file_extension": ".py",
   "mimetype": "text/x-python",
   "name": "python",
   "nbconvert_exporter": "python",
   "pygments_lexer": "ipython3",
   "version": "3.11.11"
  },
  "papermill": {
   "default_parameters": {},
   "duration": 11.867197,
   "end_time": "2025-05-20T03:39:55.341337",
   "environment_variables": {},
   "exception": null,
   "input_path": "__notebook__.ipynb",
   "output_path": "__notebook__.ipynb",
   "parameters": {},
   "start_time": "2025-05-20T03:39:43.474140",
   "version": "2.6.0"
  }
 },
 "nbformat": 4,
 "nbformat_minor": 5
}
